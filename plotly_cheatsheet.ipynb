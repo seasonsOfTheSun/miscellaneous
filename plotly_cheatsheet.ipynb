{
  "nbformat": 4,
  "nbformat_minor": 0,
  "metadata": {
    "colab": {
      "name": "plotly cheatsheet.ipynb",
      "provenance": [],
      "collapsed_sections": [],
      "authorship_tag": "ABX9TyMhu4zl050pPSgGEvjUkPWQ",
      "include_colab_link": true
    },
    "kernelspec": {
      "name": "python3",
      "display_name": "Python 3"
    },
    "language_info": {
      "name": "python"
    }
  },
  "cells": [
    {
      "cell_type": "markdown",
      "metadata": {
        "id": "view-in-github",
        "colab_type": "text"
      },
      "source": [
        "<a href=\"https://colab.research.google.com/github/seasonsOfTheSun/miscellaneous/blob/main/plotly_cheatsheet.ipynb\" target=\"_parent\"><img src=\"https://colab.research.google.com/assets/colab-badge.svg\" alt=\"Open In Colab\"/></a>"
      ]
    },
    {
      "cell_type": "code",
      "source": [
        ""
      ],
      "metadata": {
        "id": "gORVWrhCZRLB"
      },
      "execution_count": null,
      "outputs": []
    },
    {
      "cell_type": "markdown",
      "source": [
        "# Plotly"
      ],
      "metadata": {
        "id": "2jAwYC1KZj93"
      }
    },
    {
      "cell_type": "code",
      "source": [
        ""
      ],
      "metadata": {
        "id": "jTe2kscRZkrY"
      },
      "execution_count": null,
      "outputs": []
    },
    {
      "cell_type": "markdown",
      "source": [
        "## 2 D Scatterplot, discrete colors"
      ],
      "metadata": {
        "id": "W4ykXsRi1Bh2"
      }
    },
    {
      "cell_type": "code",
      "source": [
        "\n",
        "import numpy as np\n",
        "x = np.random.rand(100)\n",
        "y = np.random.rand(100)\n",
        "labels = np.random.choice([\"a\", \"b\", \"c\"], size = 100)"
      ],
      "metadata": {
        "id": "L2suMoxMZiPI"
      },
      "execution_count": null,
      "outputs": []
    },
    {
      "cell_type": "code",
      "source": [
        ""
      ],
      "metadata": {
        "id": "BkLERU0WaD4Z"
      },
      "execution_count": null,
      "outputs": []
    },
    {
      "cell_type": "code",
      "source": [
        "import plotly.graph_objects\n",
        "# https://plotly.com/python/figure-labels/\n",
        "\n",
        "fig = plotly.graph_objects.Figure()\n",
        "\n",
        "#assign colors to label values here\n",
        "colormap = {\"a\":\"#ffffff\", \"b\": \"#000000\", \"c\":\"#aa0033\"}\n",
        "\n",
        "\n",
        "for label, color in colormap.items():\n",
        "  # split color class by color class because the legend won't be created correctly otherwise\n",
        "  fig.add_trace(plotly.graph_objects.Scatter(x=x[labels==label],y=y[labels==label],\n",
        "                                            mode='markers',\n",
        "                                              marker=dict( # options for the design of the position markers\n",
        "                                                           # of the points in the scatter plot\n",
        "                                                  size=15,\n",
        "                                                  line = {\"color\": \"#000000\", \"width\":3},# adjusts the borderline of the markers\n",
        "                                                  color=color\n",
        "                                              ),\n",
        "                                             name = label))\n",
        "fig.update_layout(\n",
        "  title=\"Plot Title\",\n",
        "  xaxis_title=\"X Axis Title\",\n",
        "  yaxis_title=\"Y Axis Title\",\n",
        "  legend_title=\"Legend Title\",\n",
        "  font=dict(\n",
        "      family=\"Arial\",\n",
        "      size=10\n",
        "  ))\n",
        "fig.update_layout(template=\"seaborn\")\n",
        "fig.show()"
      ],
      "metadata": {
        "id": "f9h_s2bUrQQr"
      },
      "execution_count": null,
      "outputs": []
    },
    {
      "cell_type": "markdown",
      "source": [
        "## 3 D Scatterplot, discrete colors"
      ],
      "metadata": {
        "id": "eXocjjTN1Ikc"
      }
    },
    {
      "cell_type": "code",
      "source": [
        "\n",
        "import numpy as np\n",
        "x = np.random.rand(100)\n",
        "y = np.random.rand(100)\n",
        "z = np.random.rand(100)\n",
        "labels = np.random.choice([\"a\", \"b\", \"c\"], size=100)"
      ],
      "metadata": {
        "id": "2WZWRrcXaItP"
      },
      "execution_count": null,
      "outputs": []
    },
    {
      "cell_type": "code",
      "source": [
        ""
      ],
      "metadata": {
        "id": "R43dt3nia2-b"
      },
      "execution_count": null,
      "outputs": []
    },
    {
      "cell_type": "code",
      "source": [
        "import plotly.graph_objects\n",
        "fig = plotly.graph_objects.Figure()\n",
        "colormap = {\"a\":\"#ffffff\", \"b\": \"#000000\", \"c\":\"#aa0033\"}\n",
        "for label, color in colormap.items():\n",
        "  # split color class by color class because the legend won't be created correctly otherwise\n",
        "  fig.add_trace(plotly.graph_objects.Scatter3d(x=x[labels==label],y=y[labels==label],z=z[labels==label],\n",
        "                                            mode='markers',\n",
        "                                              marker=dict(\n",
        "                                                  size=16,\n",
        "                                                  line = {\"color\": \"#000000\", \"width\":10},\n",
        "                                                  color=color\n",
        "                                              ),\n",
        "                                               name=label))\n",
        "fig.update_layout(\n",
        "    title=\"Plot Title\",\n",
        "    # axis titles areset through the scene object for 3d plots\n",
        "    scene = dict(\n",
        "                    xaxis_title='X AXIS TITLE',\n",
        "                    yaxis_title='Y AXIS TITLE',\n",
        "                    zaxis_title='Z AXIS TITLE'),\n",
        "    legend_title=\"Legend Title\",\n",
        "    font=dict(\n",
        "        family=\"Arial\",\n",
        "        size=10\n",
        "    ))\n",
        "fig.update_layout(template=\"seaborn\")\n",
        "\n"
      ],
      "metadata": {
        "id": "fl0Q5zO9argo"
      },
      "execution_count": null,
      "outputs": []
    },
    {
      "cell_type": "markdown",
      "source": [
        "## 3 D scatterplot continuous colors, defualt colorscheme\n",
        "\n",
        "---\n",
        "\n"
      ],
      "metadata": {
        "id": "4Jfp1qM41Noj"
      }
    },
    {
      "cell_type": "code",
      "source": [
        "\n",
        "import numpy as np\n",
        "x = np.random.rand(100)\n",
        "y = np.random.rand(100)\n",
        "z = np.random.rand(100)\n",
        "labels = np.random.rand(100)"
      ],
      "metadata": {
        "id": "x_fUYkAdaZxF"
      },
      "execution_count": null,
      "outputs": []
    },
    {
      "cell_type": "code",
      "source": [
        "import plotly.graph_objects\n",
        "fig = plotly.graph_objects.Figure()\n",
        "fig.add_trace(plotly.graph_objects.Scatter3d(x=x,y=y,z=z,\n",
        "                                          mode='markers',\n",
        "                                            marker=dict(\n",
        "                                                size=10,\n",
        "                                                line = {\"color\": \"#000000\",\n",
        "                                                        \"width\":1},\n",
        "                                                color=labels,\n",
        "                                                colorscale='Viridis',\n",
        "                                                showscale=True\n",
        "                                            )))\n",
        "fig.update_layout(\n",
        "    title=\"Plot Title\",\n",
        "\n",
        "    width = 600,\n",
        "    #xaxis_title=\"X Axis Title\",\n",
        "    #yaxis_title=\"Y Axis Title\",\n",
        "    scene = dict(\n",
        "                    xaxis_title='X AXIS TITLE',\n",
        "                    yaxis_title='Y AXIS TITLE',\n",
        "                    zaxis_title='Z AXIS TITLE'),\n",
        "\n",
        "    font=dict(\n",
        "        family=\"Arial\",\n",
        "        size=20\n",
        "    ))\n",
        "fig.update_layout(template=\"seaborn\")\n",
        "fig.show()"
      ],
      "metadata": {
        "id": "msNXLWKO1M62"
      },
      "execution_count": null,
      "outputs": []
    },
    {
      "cell_type": "markdown",
      "source": [
        "# Network with weighted edges"
      ],
      "metadata": {
        "id": "Yb4znuPIc8Cz"
      }
    },
    {
      "cell_type": "code",
      "source": [
        "import networkx as nx"
      ],
      "metadata": {
        "id": "BQDAvitqdgAB"
      },
      "execution_count": null,
      "outputs": []
    },
    {
      "cell_type": "code",
      "source": [
        "G = nx.erdos_renyi_graph(100, 0.1, )\n",
        "\n",
        "# create weights for edges in the ER network\n",
        "for i,j in G.edges():\n",
        "  G[i][j][\"weight\"] = np.random.rand()\n",
        "\n",
        "\n",
        "pos = nx.spring_layout(G, dim=3)\n",
        "n_bins=10\n",
        "labels = np.random.rand(100)"
      ],
      "metadata": {
        "id": "g3gR9iTpdJrw"
      },
      "execution_count": null,
      "outputs": []
    },
    {
      "cell_type": "code",
      "source": [
        "import plotly.express as px\n",
        "import pandas as pd\n",
        "n_bins = 10\n",
        "\n",
        "def assign_to_bin(weight, n_bins = 10):\n",
        "    return int(weight // (1/n_bins))\n",
        "\n",
        "def name_bin(x, n_bins=10):\n",
        "    return f\"{x/n_bins}-{(x+1)/n_bins}\"\n",
        "\n",
        "\n",
        "\n",
        "x_nodes = []\n",
        "y_nodes = []\n",
        "z_nodes = []\n",
        "\n",
        "for j in G.nodes():\n",
        "\n",
        "    x_nodes.append(pos[j][0])\n",
        "    y_nodes.append(pos[j][1])\n",
        "    z_nodes.append(pos[j][2])\n",
        "\n",
        "\n",
        "\n",
        "bins = [name_bin(i) for i in range(n_bins)]\n",
        "\n",
        "x = []\n",
        "y = []\n",
        "z = []\n",
        "c = []\n",
        "\n",
        "for i,j in enumerate(G.edges()):\n",
        "\n",
        "    x.extend([None, pos[j[0]][0], pos[j[1]][0]])\n",
        "    y.extend([None, pos[j[0]][1], pos[j[1]][1]])\n",
        "    z.extend([None, pos[j[0]][2], pos[j[1]][2]])\n",
        "    a = name_bin(assign_to_bin(float(G.edges()[j]['weight'])))\n",
        "    c.extend([a,a,a])\n",
        "\n",
        "mu = pd.DataFrame({\"x\":x,\"y\":y,\"z\":z,\"weight\":c})\n",
        "\n",
        "# make some dummy length-zero edges with the right colors in the correct order \n",
        "# so plotly makes the right colorbar\n",
        "bu = pd.DataFrame({\"x\":[0]*n_bins,\"y\":[0]*n_bins,\"z\":[0]*n_bins,\"weight\":bins[::-1]})\n",
        "df = pd.concat([bu,mu])\n",
        "\n",
        "fig = px.line_3d(df, x=\"x\",\n",
        "                      y=\"y\",\n",
        "                      z=\"z\",\n",
        "                      color=\"weight\",\n",
        "                      color_discrete_sequence=px.colors.sequential.gray_r[::-1],\n",
        "                  labels = labels\n",
        "                  )\n",
        "\n",
        "fig.add_trace(plotly.graph_objects.Scatter3d(x=x_nodes,\n",
        "                                             y=y_nodes,\n",
        "                                             z=z_nodes,\n",
        "                                          line={\"width\":0.0001},\n",
        "                                          mode='markers',\n",
        "                                            marker=dict(\n",
        "                                                size=10,\n",
        "                                                line = {\"color\": \"#000000\",\n",
        "                                                        \"width\":1},\n",
        "                                                color=labels,\n",
        "                                                colorscale='Viridis',\n",
        "                                                showscale=True\n",
        "                                            )))\n",
        "\n",
        "fig.update_layout(colorbar_axis_y=-2)\n"
      ],
      "metadata": {
        "id": "x-7gxxtWc5Py"
      },
      "execution_count": null,
      "outputs": []
    },
    {
      "cell_type": "code",
      "source": [
        ""
      ],
      "metadata": {
        "id": "2W9zrEGEdB__"
      },
      "execution_count": null,
      "outputs": []
    }
  ]
}